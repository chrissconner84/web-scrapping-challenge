{
 "cells": [
  {
   "cell_type": "code",
   "execution_count": 1,
   "id": "ae3ba3a0",
   "metadata": {},
   "outputs": [],
   "source": [
    "#* Visit the astrogeology site [here](https://marshemispheres.com/) to obtain high resolution images for each of Mar's hemispheres.\n",
    "#* You will need to click each of the links to the hemispheres in order to find the image url to the full resolution image.\n",
    "#* Save both the image url string for the full resolution hemisphere image, and the Hemisphere title containing the hemisphere name. Use a Python dictionary to store the data using the keys `img_url` and `title`.\n",
    "#* Append the dictionary with the image url string and the hemisphere title to a list. This list will contain one dictionary for each hemisphere.\n",
    "#  python Example:\n",
    "#  hemisphere_image_urls = [\n",
    "     #{\"title\": \"Valles Marineris Hemisphere\", \"img_url\": \"...\"},\n",
    "     #{\"title\": \"Cerberus Hemisphere\", \"img_url\": \"...\"},\n",
    "     #{\"title\": \"Schiaparelli Hemisphere\", \"img_url\": \"...\"},\n",
    "     #{\"title\": \"Syrtis Major Hemisphere\", \"img_url\": \"...\"},\n",
    "# ]\n"
   ]
  },
  {
   "cell_type": "code",
   "execution_count": 2,
   "id": "b7ec897d",
   "metadata": {},
   "outputs": [],
   "source": [
    "# Dependencies\n",
    "import pandas as pd\n",
    "from bs4 import BeautifulSoup as bs\n",
    "import os\n",
    "import requests\n",
    "from splinter import Browser\n",
    "from webdriver_manager.chrome import ChromeDriverManager"
   ]
  },
  {
   "cell_type": "code",
   "execution_count": 39,
   "id": "b994fcb7",
   "metadata": {},
   "outputs": [
    {
     "name": "stderr",
     "output_type": "stream",
     "text": [
      "\n",
      "\n",
      "====== WebDriver manager ======\n",
      "Current google-chrome version is 99.0.4844\n",
      "Get LATEST chromedriver version for 99.0.4844 google-chrome\n",
      "Trying to download new driver from https://chromedriver.storage.googleapis.com/99.0.4844.51/chromedriver_win32.zip\n",
      "Driver has been saved in cache [C:\\Users\\cconn\\.wdm\\drivers\\chromedriver\\win32\\99.0.4844.51]\n"
     ]
    }
   ],
   "source": [
    "# Setup splinter\n",
    "executable_path = {'executable_path': ChromeDriverManager().install()}\n",
    "browser = Browser('chrome', **executable_path, headless=False)"
   ]
  },
  {
   "cell_type": "code",
   "execution_count": 40,
   "id": "0fa0d1b7",
   "metadata": {},
   "outputs": [],
   "source": [
    "# URL of page to be scraped\n",
    "url = 'https://marshemispheres.com'\n",
    "browser.visit(url)"
   ]
  },
  {
   "cell_type": "code",
   "execution_count": 41,
   "id": "a1196e61",
   "metadata": {},
   "outputs": [],
   "source": [
    "# Scrape page into Soup\n",
    "html = browser.html\n",
    "soup = bs(html, \"html.parser\")"
   ]
  },
  {
   "cell_type": "code",
   "execution_count": 42,
   "id": "1b5c4326",
   "metadata": {},
   "outputs": [],
   "source": [
    "#Get a count of the required hemispheres\n",
    "hemispheres=soup.find_all('div',class_='item')\n"
   ]
  },
  {
   "cell_type": "code",
   "execution_count": 49,
   "id": "5b160598",
   "metadata": {},
   "outputs": [
    {
     "data": {
      "text/plain": [
       "['https://marshemispheres.com/cerberus.html',\n",
       " 'https://marshemispheres.com/schiaparelli.html',\n",
       " 'https://marshemispheres.com/syrtis.html',\n",
       " 'https://marshemispheres.com/valles.html']"
      ]
     },
     "execution_count": 49,
     "metadata": {},
     "output_type": "execute_result"
    }
   ],
   "source": [
    "hem_list=[]\n",
    "index=0\n",
    "for hem in hemispheres:\n",
    "    hem_link=hem.a['href']\n",
    "    nhm=url+'/'+hem_link\n",
    "    hem_list.append(nhm)\n",
    "hem_list    "
   ]
  },
  {
   "cell_type": "code",
   "execution_count": 50,
   "id": "38baa4d9",
   "metadata": {},
   "outputs": [
    {
     "data": {
      "text/plain": [
       "<bound method BaseWebDriver.quit of <splinter.driver.webdriver.chrome.WebDriver object at 0x000001A87BB84E50>>"
      ]
     },
     "execution_count": 50,
     "metadata": {},
     "output_type": "execute_result"
    }
   ],
   "source": [
    "browser.quit"
   ]
  },
  {
   "cell_type": "code",
   "execution_count": 51,
   "id": "606249ed",
   "metadata": {},
   "outputs": [
    {
     "name": "stderr",
     "output_type": "stream",
     "text": [
      "\n",
      "\n",
      "====== WebDriver manager ======\n",
      "Current google-chrome version is 99.0.4844\n",
      "Get LATEST chromedriver version for 99.0.4844 google-chrome\n",
      "Trying to download new driver from https://chromedriver.storage.googleapis.com/99.0.4844.51/chromedriver_win32.zip\n",
      "Driver has been saved in cache [C:\\Users\\cconn\\.wdm\\drivers\\chromedriver\\win32\\99.0.4844.51]\n"
     ]
    }
   ],
   "source": [
    "executable_path = {'executable_path': ChromeDriverManager().install()}\n",
    "browser = Browser('chrome', **executable_path, headless=False)"
   ]
  },
  {
   "cell_type": "code",
   "execution_count": 59,
   "id": "c5548112",
   "metadata": {},
   "outputs": [],
   "source": [
    "hemisphere_image_urls={}"
   ]
  },
  {
   "cell_type": "code",
   "execution_count": 60,
   "id": "c36f84f5",
   "metadata": {},
   "outputs": [],
   "source": [
    "index=0\n",
    "for h in hem_list:\n",
    "    index=index+1\n",
    "    browser.visit(h)\n",
    "    html2 = browser.html\n",
    "    soup2 = bs(html2, \"html.parser\")\n",
    "    hem_title = soup2.find(\"h2\",class_=\"title\").text\n",
    "    hem_image=soup2.find('li')\n",
    "    image=hem_image.a['href']\n",
    "    image_link=url+'/'+image\n",
    "    #hemisphere_image_urls.append({\"index\":index,\"title\":hem_title,\"image_url\":image_link})\n",
    "    hemisphere_image_urls.update({\"title\"+str(index):hem_title,\"image_url\"+str(index):image_link})"
   ]
  },
  {
   "cell_type": "code",
   "execution_count": 61,
   "id": "3621acc5",
   "metadata": {},
   "outputs": [
    {
     "data": {
      "text/plain": [
       "{'title1': 'Cerberus Hemisphere Enhanced',\n",
       " 'image_url1': 'https://marshemispheres.com/images/full.jpg',\n",
       " 'title2': 'Schiaparelli Hemisphere Enhanced',\n",
       " 'image_url2': 'https://marshemispheres.com/images/schiaparelli_enhanced-full.jpg',\n",
       " 'title3': 'Syrtis Major Hemisphere Enhanced',\n",
       " 'image_url3': 'https://marshemispheres.com/images/syrtis_major_enhanced-full.jpg',\n",
       " 'title4': 'Valles Marineris Hemisphere Enhanced',\n",
       " 'image_url4': 'https://marshemispheres.com/images/valles_marineris_enhanced-full.jpg'}"
      ]
     },
     "execution_count": 61,
     "metadata": {},
     "output_type": "execute_result"
    }
   ],
   "source": [
    " hemisphere_image_urls   \n",
    "    "
   ]
  },
  {
   "cell_type": "code",
   "execution_count": null,
   "id": "e1f9f160",
   "metadata": {},
   "outputs": [],
   "source": [
    " hemisphere_image_urls"
   ]
  },
  {
   "cell_type": "code",
   "execution_count": null,
   "id": "9f297f4b",
   "metadata": {},
   "outputs": [],
   "source": [
    "browser.quit()"
   ]
  }
 ],
 "metadata": {
  "kernelspec": {
   "display_name": "Python 3 (ipykernel)",
   "language": "python",
   "name": "python3"
  },
  "language_info": {
   "codemirror_mode": {
    "name": "ipython",
    "version": 3
   },
   "file_extension": ".py",
   "mimetype": "text/x-python",
   "name": "python",
   "nbconvert_exporter": "python",
   "pygments_lexer": "ipython3",
   "version": "3.9.7"
  }
 },
 "nbformat": 4,
 "nbformat_minor": 5
}
